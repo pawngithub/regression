{
 "cells": [
  {
   "cell_type": "code",
   "execution_count": 1,
   "id": "1136b4c3",
   "metadata": {},
   "outputs": [],
   "source": [
    "### find the person diabetic or not"
   ]
  },
  {
   "cell_type": "code",
   "execution_count": 2,
   "id": "cfa64c65",
   "metadata": {},
   "outputs": [],
   "source": [
    "import numpy as np\n",
    "import pandas as pd\n",
    "import matplotlib.pyplot as plt\n",
    "%matplotlib inline\n",
    "import seaborn as sns\n",
    "from sklearn.model_selection import train_test_split\n",
    "from sklearn.linear_model import LogisticRegression\n",
    "import warnings\n",
    "warnings.filterwarnings('ignore')\n",
    "pd.set_option('display.max_columns',None)\n",
    "pd.set_option('display.max_rows',None)"
   ]
  },
  {
   "cell_type": "code",
   "execution_count": 3,
   "id": "62cf7ab7",
   "metadata": {},
   "outputs": [],
   "source": [
    "df=pd.read_csv('pima-indians-diabetes-2.csv')"
   ]
  },
  {
   "cell_type": "code",
   "execution_count": 4,
   "id": "45dc5462",
   "metadata": {},
   "outputs": [
    {
     "data": {
      "text/html": [
       "<div>\n",
       "<style scoped>\n",
       "    .dataframe tbody tr th:only-of-type {\n",
       "        vertical-align: middle;\n",
       "    }\n",
       "\n",
       "    .dataframe tbody tr th {\n",
       "        vertical-align: top;\n",
       "    }\n",
       "\n",
       "    .dataframe thead th {\n",
       "        text-align: right;\n",
       "    }\n",
       "</style>\n",
       "<table border=\"1\" class=\"dataframe\">\n",
       "  <thead>\n",
       "    <tr style=\"text-align: right;\">\n",
       "      <th></th>\n",
       "      <th>Preg</th>\n",
       "      <th>Plas</th>\n",
       "      <th>Pres</th>\n",
       "      <th>skin</th>\n",
       "      <th>test</th>\n",
       "      <th>mass</th>\n",
       "      <th>pedi</th>\n",
       "      <th>age</th>\n",
       "      <th>class</th>\n",
       "    </tr>\n",
       "  </thead>\n",
       "  <tbody>\n",
       "    <tr>\n",
       "      <th>0</th>\n",
       "      <td>6</td>\n",
       "      <td>148</td>\n",
       "      <td>72</td>\n",
       "      <td>35</td>\n",
       "      <td>0</td>\n",
       "      <td>33.6</td>\n",
       "      <td>0.627</td>\n",
       "      <td>50</td>\n",
       "      <td>1</td>\n",
       "    </tr>\n",
       "    <tr>\n",
       "      <th>1</th>\n",
       "      <td>1</td>\n",
       "      <td>85</td>\n",
       "      <td>66</td>\n",
       "      <td>29</td>\n",
       "      <td>0</td>\n",
       "      <td>26.6</td>\n",
       "      <td>0.351</td>\n",
       "      <td>31</td>\n",
       "      <td>0</td>\n",
       "    </tr>\n",
       "    <tr>\n",
       "      <th>2</th>\n",
       "      <td>8</td>\n",
       "      <td>183</td>\n",
       "      <td>64</td>\n",
       "      <td>0</td>\n",
       "      <td>0</td>\n",
       "      <td>23.3</td>\n",
       "      <td>0.672</td>\n",
       "      <td>32</td>\n",
       "      <td>1</td>\n",
       "    </tr>\n",
       "    <tr>\n",
       "      <th>3</th>\n",
       "      <td>1</td>\n",
       "      <td>89</td>\n",
       "      <td>66</td>\n",
       "      <td>23</td>\n",
       "      <td>94</td>\n",
       "      <td>28.1</td>\n",
       "      <td>0.167</td>\n",
       "      <td>21</td>\n",
       "      <td>0</td>\n",
       "    </tr>\n",
       "    <tr>\n",
       "      <th>4</th>\n",
       "      <td>0</td>\n",
       "      <td>137</td>\n",
       "      <td>40</td>\n",
       "      <td>35</td>\n",
       "      <td>168</td>\n",
       "      <td>43.1</td>\n",
       "      <td>2.288</td>\n",
       "      <td>33</td>\n",
       "      <td>1</td>\n",
       "    </tr>\n",
       "  </tbody>\n",
       "</table>\n",
       "</div>"
      ],
      "text/plain": [
       "   Preg  Plas  Pres  skin  test  mass   pedi  age  class\n",
       "0     6   148    72    35     0  33.6  0.627   50      1\n",
       "1     1    85    66    29     0  26.6  0.351   31      0\n",
       "2     8   183    64     0     0  23.3  0.672   32      1\n",
       "3     1    89    66    23    94  28.1  0.167   21      0\n",
       "4     0   137    40    35   168  43.1  2.288   33      1"
      ]
     },
     "execution_count": 4,
     "metadata": {},
     "output_type": "execute_result"
    }
   ],
   "source": [
    "df.head()"
   ]
  },
  {
   "cell_type": "code",
   "execution_count": 5,
   "id": "d5ac84a8",
   "metadata": {},
   "outputs": [
    {
     "data": {
      "text/html": [
       "<div>\n",
       "<style scoped>\n",
       "    .dataframe tbody tr th:only-of-type {\n",
       "        vertical-align: middle;\n",
       "    }\n",
       "\n",
       "    .dataframe tbody tr th {\n",
       "        vertical-align: top;\n",
       "    }\n",
       "\n",
       "    .dataframe thead th {\n",
       "        text-align: right;\n",
       "    }\n",
       "</style>\n",
       "<table border=\"1\" class=\"dataframe\">\n",
       "  <thead>\n",
       "    <tr style=\"text-align: right;\">\n",
       "      <th></th>\n",
       "      <th>Preg</th>\n",
       "      <th>Plas</th>\n",
       "      <th>Pres</th>\n",
       "      <th>skin</th>\n",
       "      <th>test</th>\n",
       "      <th>mass</th>\n",
       "      <th>pedi</th>\n",
       "      <th>age</th>\n",
       "      <th>class</th>\n",
       "    </tr>\n",
       "  </thead>\n",
       "  <tbody>\n",
       "    <tr>\n",
       "      <th>count</th>\n",
       "      <td>768.000000</td>\n",
       "      <td>768.000000</td>\n",
       "      <td>768.000000</td>\n",
       "      <td>768.000000</td>\n",
       "      <td>768.000000</td>\n",
       "      <td>768.000000</td>\n",
       "      <td>768.000000</td>\n",
       "      <td>768.000000</td>\n",
       "      <td>768.000000</td>\n",
       "    </tr>\n",
       "    <tr>\n",
       "      <th>mean</th>\n",
       "      <td>3.845052</td>\n",
       "      <td>120.894531</td>\n",
       "      <td>69.105469</td>\n",
       "      <td>20.536458</td>\n",
       "      <td>79.799479</td>\n",
       "      <td>31.992578</td>\n",
       "      <td>0.471876</td>\n",
       "      <td>33.240885</td>\n",
       "      <td>0.348958</td>\n",
       "    </tr>\n",
       "    <tr>\n",
       "      <th>std</th>\n",
       "      <td>3.369578</td>\n",
       "      <td>31.972618</td>\n",
       "      <td>19.355807</td>\n",
       "      <td>15.952218</td>\n",
       "      <td>115.244002</td>\n",
       "      <td>7.884160</td>\n",
       "      <td>0.331329</td>\n",
       "      <td>11.760232</td>\n",
       "      <td>0.476951</td>\n",
       "    </tr>\n",
       "    <tr>\n",
       "      <th>min</th>\n",
       "      <td>0.000000</td>\n",
       "      <td>0.000000</td>\n",
       "      <td>0.000000</td>\n",
       "      <td>0.000000</td>\n",
       "      <td>0.000000</td>\n",
       "      <td>0.000000</td>\n",
       "      <td>0.078000</td>\n",
       "      <td>21.000000</td>\n",
       "      <td>0.000000</td>\n",
       "    </tr>\n",
       "    <tr>\n",
       "      <th>25%</th>\n",
       "      <td>1.000000</td>\n",
       "      <td>99.000000</td>\n",
       "      <td>62.000000</td>\n",
       "      <td>0.000000</td>\n",
       "      <td>0.000000</td>\n",
       "      <td>27.300000</td>\n",
       "      <td>0.243750</td>\n",
       "      <td>24.000000</td>\n",
       "      <td>0.000000</td>\n",
       "    </tr>\n",
       "    <tr>\n",
       "      <th>50%</th>\n",
       "      <td>3.000000</td>\n",
       "      <td>117.000000</td>\n",
       "      <td>72.000000</td>\n",
       "      <td>23.000000</td>\n",
       "      <td>30.500000</td>\n",
       "      <td>32.000000</td>\n",
       "      <td>0.372500</td>\n",
       "      <td>29.000000</td>\n",
       "      <td>0.000000</td>\n",
       "    </tr>\n",
       "    <tr>\n",
       "      <th>75%</th>\n",
       "      <td>6.000000</td>\n",
       "      <td>140.250000</td>\n",
       "      <td>80.000000</td>\n",
       "      <td>32.000000</td>\n",
       "      <td>127.250000</td>\n",
       "      <td>36.600000</td>\n",
       "      <td>0.626250</td>\n",
       "      <td>41.000000</td>\n",
       "      <td>1.000000</td>\n",
       "    </tr>\n",
       "    <tr>\n",
       "      <th>max</th>\n",
       "      <td>17.000000</td>\n",
       "      <td>199.000000</td>\n",
       "      <td>122.000000</td>\n",
       "      <td>99.000000</td>\n",
       "      <td>846.000000</td>\n",
       "      <td>67.100000</td>\n",
       "      <td>2.420000</td>\n",
       "      <td>81.000000</td>\n",
       "      <td>1.000000</td>\n",
       "    </tr>\n",
       "  </tbody>\n",
       "</table>\n",
       "</div>"
      ],
      "text/plain": [
       "             Preg        Plas        Pres        skin        test        mass  \\\n",
       "count  768.000000  768.000000  768.000000  768.000000  768.000000  768.000000   \n",
       "mean     3.845052  120.894531   69.105469   20.536458   79.799479   31.992578   \n",
       "std      3.369578   31.972618   19.355807   15.952218  115.244002    7.884160   \n",
       "min      0.000000    0.000000    0.000000    0.000000    0.000000    0.000000   \n",
       "25%      1.000000   99.000000   62.000000    0.000000    0.000000   27.300000   \n",
       "50%      3.000000  117.000000   72.000000   23.000000   30.500000   32.000000   \n",
       "75%      6.000000  140.250000   80.000000   32.000000  127.250000   36.600000   \n",
       "max     17.000000  199.000000  122.000000   99.000000  846.000000   67.100000   \n",
       "\n",
       "             pedi         age       class  \n",
       "count  768.000000  768.000000  768.000000  \n",
       "mean     0.471876   33.240885    0.348958  \n",
       "std      0.331329   11.760232    0.476951  \n",
       "min      0.078000   21.000000    0.000000  \n",
       "25%      0.243750   24.000000    0.000000  \n",
       "50%      0.372500   29.000000    0.000000  \n",
       "75%      0.626250   41.000000    1.000000  \n",
       "max      2.420000   81.000000    1.000000  "
      ]
     },
     "execution_count": 5,
     "metadata": {},
     "output_type": "execute_result"
    }
   ],
   "source": [
    "df.describe(include='all')"
   ]
  },
  {
   "cell_type": "code",
   "execution_count": 6,
   "id": "4c0fb6b5",
   "metadata": {},
   "outputs": [
    {
     "data": {
      "text/plain": [
       "Preg       int64\n",
       "Plas       int64\n",
       "Pres       int64\n",
       "skin       int64\n",
       "test       int64\n",
       "mass     float64\n",
       "pedi     float64\n",
       "age        int64\n",
       "class      int64\n",
       "dtype: object"
      ]
     },
     "execution_count": 6,
     "metadata": {},
     "output_type": "execute_result"
    }
   ],
   "source": [
    "df.dtypes"
   ]
  },
  {
   "cell_type": "code",
   "execution_count": 7,
   "id": "0767e4c7",
   "metadata": {},
   "outputs": [
    {
     "data": {
      "text/plain": [
       "(768, 9)"
      ]
     },
     "execution_count": 7,
     "metadata": {},
     "output_type": "execute_result"
    }
   ],
   "source": [
    "df.shape"
   ]
  },
  {
   "cell_type": "code",
   "execution_count": 8,
   "id": "c62a61db",
   "metadata": {},
   "outputs": [
    {
     "data": {
      "text/plain": [
       "Preg     0\n",
       "Plas     0\n",
       "Pres     0\n",
       "skin     0\n",
       "test     0\n",
       "mass     0\n",
       "pedi     0\n",
       "age      0\n",
       "class    0\n",
       "dtype: int64"
      ]
     },
     "execution_count": 8,
     "metadata": {},
     "output_type": "execute_result"
    }
   ],
   "source": [
    "df.isnull().sum()"
   ]
  },
  {
   "cell_type": "code",
   "execution_count": 9,
   "id": "9ef842c0",
   "metadata": {},
   "outputs": [
    {
     "data": {
      "text/plain": [
       "<bound method IndexOpsMixin.value_counts of 0      1\n",
       "1      0\n",
       "2      1\n",
       "3      0\n",
       "4      1\n",
       "5      0\n",
       "6      1\n",
       "7      0\n",
       "8      1\n",
       "9      1\n",
       "10     0\n",
       "11     1\n",
       "12     0\n",
       "13     1\n",
       "14     1\n",
       "15     1\n",
       "16     1\n",
       "17     1\n",
       "18     0\n",
       "19     1\n",
       "20     0\n",
       "21     0\n",
       "22     1\n",
       "23     1\n",
       "24     1\n",
       "25     1\n",
       "26     1\n",
       "27     0\n",
       "28     0\n",
       "29     0\n",
       "30     0\n",
       "31     1\n",
       "32     0\n",
       "33     0\n",
       "34     0\n",
       "35     0\n",
       "36     0\n",
       "37     1\n",
       "38     1\n",
       "39     1\n",
       "40     0\n",
       "41     0\n",
       "42     0\n",
       "43     1\n",
       "44     0\n",
       "45     1\n",
       "46     0\n",
       "47     0\n",
       "48     1\n",
       "49     0\n",
       "50     0\n",
       "51     0\n",
       "52     0\n",
       "53     1\n",
       "54     0\n",
       "55     0\n",
       "56     1\n",
       "57     0\n",
       "58     0\n",
       "59     0\n",
       "60     0\n",
       "61     1\n",
       "62     0\n",
       "63     0\n",
       "64     1\n",
       "65     0\n",
       "66     1\n",
       "67     0\n",
       "68     0\n",
       "69     0\n",
       "70     1\n",
       "71     0\n",
       "72     1\n",
       "73     0\n",
       "74     0\n",
       "75     0\n",
       "76     0\n",
       "77     0\n",
       "78     1\n",
       "79     0\n",
       "80     0\n",
       "81     0\n",
       "82     0\n",
       "83     0\n",
       "84     1\n",
       "85     0\n",
       "86     0\n",
       "87     0\n",
       "88     1\n",
       "89     0\n",
       "90     0\n",
       "91     0\n",
       "92     0\n",
       "93     1\n",
       "94     0\n",
       "95     0\n",
       "96     0\n",
       "97     0\n",
       "98     0\n",
       "99     1\n",
       "100    1\n",
       "101    0\n",
       "102    0\n",
       "103    0\n",
       "104    0\n",
       "105    0\n",
       "106    0\n",
       "107    0\n",
       "108    0\n",
       "109    1\n",
       "110    1\n",
       "111    1\n",
       "112    0\n",
       "113    0\n",
       "114    1\n",
       "115    1\n",
       "116    1\n",
       "117    0\n",
       "118    0\n",
       "119    0\n",
       "120    1\n",
       "121    0\n",
       "122    0\n",
       "123    0\n",
       "124    1\n",
       "125    1\n",
       "126    0\n",
       "127    0\n",
       "128    1\n",
       "129    1\n",
       "130    1\n",
       "131    1\n",
       "132    1\n",
       "133    0\n",
       "134    0\n",
       "135    0\n",
       "136    0\n",
       "137    0\n",
       "138    0\n",
       "139    0\n",
       "140    0\n",
       "141    0\n",
       "142    0\n",
       "143    1\n",
       "144    0\n",
       "145    0\n",
       "146    0\n",
       "147    0\n",
       "148    0\n",
       "149    0\n",
       "150    0\n",
       "151    0\n",
       "152    1\n",
       "153    0\n",
       "154    1\n",
       "155    1\n",
       "156    0\n",
       "157    0\n",
       "158    0\n",
       "159    1\n",
       "160    0\n",
       "161    0\n",
       "162    0\n",
       "163    0\n",
       "164    1\n",
       "165    1\n",
       "166    0\n",
       "167    0\n",
       "168    0\n",
       "169    0\n",
       "170    1\n",
       "171    1\n",
       "172    0\n",
       "173    0\n",
       "174    0\n",
       "175    1\n",
       "176    0\n",
       "177    1\n",
       "178    0\n",
       "179    1\n",
       "180    0\n",
       "181    0\n",
       "182    0\n",
       "183    0\n",
       "184    0\n",
       "185    1\n",
       "186    1\n",
       "187    1\n",
       "188    1\n",
       "189    1\n",
       "190    0\n",
       "191    0\n",
       "192    1\n",
       "193    1\n",
       "194    0\n",
       "195    1\n",
       "196    0\n",
       "197    1\n",
       "198    1\n",
       "199    1\n",
       "200    0\n",
       "201    0\n",
       "202    0\n",
       "203    0\n",
       "204    0\n",
       "205    0\n",
       "206    1\n",
       "207    1\n",
       "208    0\n",
       "209    1\n",
       "210    0\n",
       "211    0\n",
       "212    0\n",
       "213    1\n",
       "214    1\n",
       "215    1\n",
       "216    1\n",
       "217    0\n",
       "218    1\n",
       "219    1\n",
       "220    1\n",
       "221    1\n",
       "222    0\n",
       "223    0\n",
       "224    0\n",
       "225    0\n",
       "226    0\n",
       "227    1\n",
       "228    0\n",
       "229    0\n",
       "230    1\n",
       "231    1\n",
       "232    0\n",
       "233    0\n",
       "234    0\n",
       "235    1\n",
       "236    1\n",
       "237    1\n",
       "238    1\n",
       "239    0\n",
       "240    0\n",
       "241    0\n",
       "242    1\n",
       "243    1\n",
       "244    0\n",
       "245    1\n",
       "246    0\n",
       "247    0\n",
       "248    0\n",
       "249    0\n",
       "250    0\n",
       "251    0\n",
       "252    0\n",
       "253    0\n",
       "254    1\n",
       "255    1\n",
       "256    0\n",
       "257    0\n",
       "258    0\n",
       "259    1\n",
       "260    0\n",
       "261    1\n",
       "262    0\n",
       "263    0\n",
       "264    1\n",
       "265    0\n",
       "266    1\n",
       "267    0\n",
       "268    0\n",
       "269    1\n",
       "270    1\n",
       "271    0\n",
       "272    0\n",
       "273    0\n",
       "274    0\n",
       "275    0\n",
       "276    1\n",
       "277    0\n",
       "278    0\n",
       "279    0\n",
       "280    1\n",
       "281    0\n",
       "282    0\n",
       "283    1\n",
       "284    1\n",
       "285    0\n",
       "286    0\n",
       "287    1\n",
       "288    0\n",
       "289    0\n",
       "290    0\n",
       "291    1\n",
       "292    1\n",
       "293    1\n",
       "294    0\n",
       "295    0\n",
       "296    1\n",
       "297    0\n",
       "298    1\n",
       "299    0\n",
       "300    1\n",
       "301    1\n",
       "302    0\n",
       "303    1\n",
       "304    0\n",
       "305    0\n",
       "306    1\n",
       "307    0\n",
       "308    1\n",
       "309    1\n",
       "310    0\n",
       "311    0\n",
       "312    1\n",
       "313    0\n",
       "314    1\n",
       "315    0\n",
       "316    0\n",
       "317    1\n",
       "318    0\n",
       "319    1\n",
       "320    0\n",
       "321    1\n",
       "322    1\n",
       "323    1\n",
       "324    0\n",
       "325    0\n",
       "326    1\n",
       "327    0\n",
       "328    1\n",
       "329    0\n",
       "330    0\n",
       "331    0\n",
       "332    1\n",
       "333    0\n",
       "334    0\n",
       "335    0\n",
       "336    0\n",
       "337    1\n",
       "338    1\n",
       "339    1\n",
       "340    0\n",
       "341    0\n",
       "342    0\n",
       "343    0\n",
       "344    0\n",
       "345    0\n",
       "346    0\n",
       "347    0\n",
       "348    0\n",
       "349    1\n",
       "350    0\n",
       "351    0\n",
       "352    0\n",
       "353    0\n",
       "354    0\n",
       "355    1\n",
       "356    1\n",
       "357    1\n",
       "358    0\n",
       "359    1\n",
       "360    1\n",
       "361    0\n",
       "362    0\n",
       "363    1\n",
       "364    0\n",
       "365    0\n",
       "366    1\n",
       "367    0\n",
       "368    0\n",
       "369    1\n",
       "370    1\n",
       "371    0\n",
       "372    0\n",
       "373    0\n",
       "374    0\n",
       "375    1\n",
       "376    0\n",
       "377    0\n",
       "378    1\n",
       "379    0\n",
       "380    0\n",
       "381    0\n",
       "382    0\n",
       "383    0\n",
       "384    0\n",
       "385    0\n",
       "386    1\n",
       "387    1\n",
       "388    1\n",
       "389    0\n",
       "390    0\n",
       "391    1\n",
       "392    0\n",
       "393    0\n",
       "394    1\n",
       "395    0\n",
       "396    0\n",
       "397    1\n",
       "398    0\n",
       "399    1\n",
       "400    1\n",
       "401    0\n",
       "402    1\n",
       "403    0\n",
       "404    1\n",
       "405    0\n",
       "406    1\n",
       "407    0\n",
       "408    1\n",
       "409    1\n",
       "410    0\n",
       "411    0\n",
       "412    0\n",
       "413    0\n",
       "414    1\n",
       "415    1\n",
       "416    0\n",
       "417    1\n",
       "418    0\n",
       "419    1\n",
       "420    0\n",
       "421    0\n",
       "422    0\n",
       "423    0\n",
       "424    1\n",
       "425    1\n",
       "426    0\n",
       "427    1\n",
       "428    0\n",
       "429    1\n",
       "430    0\n",
       "431    0\n",
       "432    0\n",
       "433    0\n",
       "434    0\n",
       "435    1\n",
       "436    0\n",
       "437    0\n",
       "438    0\n",
       "439    0\n",
       "440    1\n",
       "441    0\n",
       "442    0\n",
       "443    1\n",
       "444    1\n",
       "445    1\n",
       "446    0\n",
       "447    0\n",
       "448    1\n",
       "449    0\n",
       "450    0\n",
       "451    1\n",
       "452    0\n",
       "453    0\n",
       "454    0\n",
       "455    1\n",
       "456    0\n",
       "457    0\n",
       "458    1\n",
       "459    0\n",
       "460    0\n",
       "461    0\n",
       "462    0\n",
       "463    0\n",
       "464    0\n",
       "465    0\n",
       "466    0\n",
       "467    0\n",
       "468    1\n",
       "469    0\n",
       "470    0\n",
       "471    0\n",
       "472    0\n",
       "473    0\n",
       "474    0\n",
       "475    0\n",
       "476    1\n",
       "477    0\n",
       "478    0\n",
       "479    0\n",
       "480    1\n",
       "481    0\n",
       "482    0\n",
       "483    0\n",
       "484    1\n",
       "485    1\n",
       "486    0\n",
       "487    0\n",
       "488    0\n",
       "489    0\n",
       "490    0\n",
       "491    0\n",
       "492    0\n",
       "493    1\n",
       "494    0\n",
       "495    0\n",
       "496    0\n",
       "497    0\n",
       "498    1\n",
       "499    0\n",
       "500    0\n",
       "501    0\n",
       "502    1\n",
       "503    0\n",
       "504    0\n",
       "505    0\n",
       "506    1\n",
       "507    0\n",
       "508    0\n",
       "509    0\n",
       "510    1\n",
       "511    0\n",
       "512    0\n",
       "513    0\n",
       "514    0\n",
       "515    1\n",
       "516    1\n",
       "517    0\n",
       "518    0\n",
       "519    0\n",
       "520    0\n",
       "521    0\n",
       "522    0\n",
       "523    1\n",
       "524    0\n",
       "525    0\n",
       "526    0\n",
       "527    0\n",
       "528    0\n",
       "529    0\n",
       "530    0\n",
       "531    0\n",
       "532    0\n",
       "533    0\n",
       "534    0\n",
       "535    1\n",
       "536    0\n",
       "537    0\n",
       "538    0\n",
       "539    1\n",
       "540    1\n",
       "541    1\n",
       "542    1\n",
       "543    0\n",
       "544    0\n",
       "545    1\n",
       "546    1\n",
       "547    0\n",
       "548    0\n",
       "549    0\n",
       "550    0\n",
       "551    0\n",
       "552    0\n",
       "553    0\n",
       "554    0\n",
       "555    0\n",
       "556    0\n",
       "557    0\n",
       "558    0\n",
       "559    0\n",
       "560    1\n",
       "561    1\n",
       "562    0\n",
       "563    0\n",
       "564    0\n",
       "565    0\n",
       "566    0\n",
       "567    0\n",
       "568    0\n",
       "569    1\n",
       "570    0\n",
       "571    0\n",
       "572    0\n",
       "573    0\n",
       "574    0\n",
       "575    0\n",
       "576    0\n",
       "577    1\n",
       "578    0\n",
       "579    1\n",
       "580    1\n",
       "581    0\n",
       "582    0\n",
       "583    0\n",
       "584    1\n",
       "585    0\n",
       "586    1\n",
       "587    0\n",
       "588    1\n",
       "589    0\n",
       "590    1\n",
       "591    0\n",
       "592    1\n",
       "593    0\n",
       "594    0\n",
       "595    1\n",
       "596    0\n",
       "597    0\n",
       "598    1\n",
       "599    0\n",
       "600    0\n",
       "601    0\n",
       "602    0\n",
       "603    1\n",
       "604    1\n",
       "605    0\n",
       "606    1\n",
       "607    0\n",
       "608    0\n",
       "609    0\n",
       "610    0\n",
       "611    1\n",
       "612    1\n",
       "613    0\n",
       "614    1\n",
       "615    0\n",
       "616    0\n",
       "617    0\n",
       "618    1\n",
       "619    1\n",
       "620    0\n",
       "621    0\n",
       "622    0\n",
       "623    0\n",
       "624    0\n",
       "625    0\n",
       "626    0\n",
       "627    0\n",
       "628    0\n",
       "629    0\n",
       "630    1\n",
       "631    0\n",
       "632    0\n",
       "633    0\n",
       "634    0\n",
       "635    1\n",
       "636    0\n",
       "637    0\n",
       "638    1\n",
       "639    0\n",
       "640    0\n",
       "641    0\n",
       "642    1\n",
       "643    0\n",
       "644    0\n",
       "645    0\n",
       "646    1\n",
       "647    1\n",
       "648    1\n",
       "649    0\n",
       "650    0\n",
       "651    0\n",
       "652    0\n",
       "653    0\n",
       "654    0\n",
       "655    1\n",
       "656    0\n",
       "657    0\n",
       "658    0\n",
       "659    1\n",
       "660    0\n",
       "661    1\n",
       "662    1\n",
       "663    1\n",
       "664    1\n",
       "665    0\n",
       "666    1\n",
       "667    1\n",
       "668    0\n",
       "669    0\n",
       "670    0\n",
       "671    0\n",
       "672    0\n",
       "673    0\n",
       "674    0\n",
       "675    1\n",
       "676    1\n",
       "677    0\n",
       "678    1\n",
       "679    0\n",
       "680    0\n",
       "681    1\n",
       "682    0\n",
       "683    1\n",
       "684    0\n",
       "685    0\n",
       "686    0\n",
       "687    0\n",
       "688    0\n",
       "689    1\n",
       "690    0\n",
       "691    1\n",
       "692    0\n",
       "693    1\n",
       "694    0\n",
       "695    1\n",
       "696    1\n",
       "697    0\n",
       "698    0\n",
       "699    0\n",
       "700    0\n",
       "701    1\n",
       "702    1\n",
       "703    0\n",
       "704    0\n",
       "705    0\n",
       "706    1\n",
       "707    0\n",
       "708    1\n",
       "709    1\n",
       "710    0\n",
       "711    0\n",
       "712    1\n",
       "713    0\n",
       "714    0\n",
       "715    1\n",
       "716    1\n",
       "717    0\n",
       "718    0\n",
       "719    1\n",
       "720    0\n",
       "721    0\n",
       "722    1\n",
       "723    0\n",
       "724    0\n",
       "725    0\n",
       "726    0\n",
       "727    0\n",
       "728    0\n",
       "729    0\n",
       "730    1\n",
       "731    1\n",
       "732    1\n",
       "733    0\n",
       "734    0\n",
       "735    0\n",
       "736    0\n",
       "737    0\n",
       "738    0\n",
       "739    1\n",
       "740    1\n",
       "741    0\n",
       "742    0\n",
       "743    1\n",
       "744    0\n",
       "745    0\n",
       "746    1\n",
       "747    0\n",
       "748    1\n",
       "749    1\n",
       "750    1\n",
       "751    0\n",
       "752    0\n",
       "753    1\n",
       "754    1\n",
       "755    1\n",
       "756    0\n",
       "757    1\n",
       "758    0\n",
       "759    1\n",
       "760    0\n",
       "761    1\n",
       "762    0\n",
       "763    0\n",
       "764    0\n",
       "765    0\n",
       "766    1\n",
       "767    0\n",
       "Name: class, dtype: int64>"
      ]
     },
     "execution_count": 9,
     "metadata": {},
     "output_type": "execute_result"
    }
   ],
   "source": [
    "df['class'].value_counts"
   ]
  },
  {
   "cell_type": "code",
   "execution_count": 10,
   "id": "13434f2f",
   "metadata": {},
   "outputs": [
    {
     "name": "stdout",
     "output_type": "stream",
     "text": [
      "<class 'pandas.core.frame.DataFrame'>\n",
      "RangeIndex: 768 entries, 0 to 767\n",
      "Data columns (total 9 columns):\n",
      " #   Column  Non-Null Count  Dtype  \n",
      "---  ------  --------------  -----  \n",
      " 0   Preg    768 non-null    int64  \n",
      " 1   Plas    768 non-null    int64  \n",
      " 2   Pres    768 non-null    int64  \n",
      " 3   skin    768 non-null    int64  \n",
      " 4   test    768 non-null    int64  \n",
      " 5   mass    768 non-null    float64\n",
      " 6   pedi    768 non-null    float64\n",
      " 7   age     768 non-null    int64  \n",
      " 8   class   768 non-null    int64  \n",
      "dtypes: float64(2), int64(7)\n",
      "memory usage: 54.1 KB\n"
     ]
    }
   ],
   "source": [
    "df.info()"
   ]
  },
  {
   "cell_type": "code",
   "execution_count": null,
   "id": "4db5f3c6",
   "metadata": {},
   "outputs": [],
   "source": []
  },
  {
   "cell_type": "code",
   "execution_count": 13,
   "id": "be8a00e9",
   "metadata": {},
   "outputs": [],
   "source": [
    "Y=df['class']\n",
    "X=df.drop([\"class\"],axis=1)"
   ]
  },
  {
   "cell_type": "code",
   "execution_count": 14,
   "id": "47c9e514",
   "metadata": {},
   "outputs": [],
   "source": [
    "X_train,X_test,Y_train,Y_test=train_test_split(X,Y,test_size=0.3,random_state=1)"
   ]
  },
  {
   "cell_type": "code",
   "execution_count": 15,
   "id": "0948a244",
   "metadata": {},
   "outputs": [],
   "source": [
    "model1=LogisticRegression()"
   ]
  },
  {
   "cell_type": "code",
   "execution_count": 16,
   "id": "fdddf3b1",
   "metadata": {},
   "outputs": [
    {
     "data": {
      "text/html": [
       "<style>#sk-container-id-1 {color: black;background-color: white;}#sk-container-id-1 pre{padding: 0;}#sk-container-id-1 div.sk-toggleable {background-color: white;}#sk-container-id-1 label.sk-toggleable__label {cursor: pointer;display: block;width: 100%;margin-bottom: 0;padding: 0.3em;box-sizing: border-box;text-align: center;}#sk-container-id-1 label.sk-toggleable__label-arrow:before {content: \"▸\";float: left;margin-right: 0.25em;color: #696969;}#sk-container-id-1 label.sk-toggleable__label-arrow:hover:before {color: black;}#sk-container-id-1 div.sk-estimator:hover label.sk-toggleable__label-arrow:before {color: black;}#sk-container-id-1 div.sk-toggleable__content {max-height: 0;max-width: 0;overflow: hidden;text-align: left;background-color: #f0f8ff;}#sk-container-id-1 div.sk-toggleable__content pre {margin: 0.2em;color: black;border-radius: 0.25em;background-color: #f0f8ff;}#sk-container-id-1 input.sk-toggleable__control:checked~div.sk-toggleable__content {max-height: 200px;max-width: 100%;overflow: auto;}#sk-container-id-1 input.sk-toggleable__control:checked~label.sk-toggleable__label-arrow:before {content: \"▾\";}#sk-container-id-1 div.sk-estimator input.sk-toggleable__control:checked~label.sk-toggleable__label {background-color: #d4ebff;}#sk-container-id-1 div.sk-label input.sk-toggleable__control:checked~label.sk-toggleable__label {background-color: #d4ebff;}#sk-container-id-1 input.sk-hidden--visually {border: 0;clip: rect(1px 1px 1px 1px);clip: rect(1px, 1px, 1px, 1px);height: 1px;margin: -1px;overflow: hidden;padding: 0;position: absolute;width: 1px;}#sk-container-id-1 div.sk-estimator {font-family: monospace;background-color: #f0f8ff;border: 1px dotted black;border-radius: 0.25em;box-sizing: border-box;margin-bottom: 0.5em;}#sk-container-id-1 div.sk-estimator:hover {background-color: #d4ebff;}#sk-container-id-1 div.sk-parallel-item::after {content: \"\";width: 100%;border-bottom: 1px solid gray;flex-grow: 1;}#sk-container-id-1 div.sk-label:hover label.sk-toggleable__label {background-color: #d4ebff;}#sk-container-id-1 div.sk-serial::before {content: \"\";position: absolute;border-left: 1px solid gray;box-sizing: border-box;top: 0;bottom: 0;left: 50%;z-index: 0;}#sk-container-id-1 div.sk-serial {display: flex;flex-direction: column;align-items: center;background-color: white;padding-right: 0.2em;padding-left: 0.2em;position: relative;}#sk-container-id-1 div.sk-item {position: relative;z-index: 1;}#sk-container-id-1 div.sk-parallel {display: flex;align-items: stretch;justify-content: center;background-color: white;position: relative;}#sk-container-id-1 div.sk-item::before, #sk-container-id-1 div.sk-parallel-item::before {content: \"\";position: absolute;border-left: 1px solid gray;box-sizing: border-box;top: 0;bottom: 0;left: 50%;z-index: -1;}#sk-container-id-1 div.sk-parallel-item {display: flex;flex-direction: column;z-index: 1;position: relative;background-color: white;}#sk-container-id-1 div.sk-parallel-item:first-child::after {align-self: flex-end;width: 50%;}#sk-container-id-1 div.sk-parallel-item:last-child::after {align-self: flex-start;width: 50%;}#sk-container-id-1 div.sk-parallel-item:only-child::after {width: 0;}#sk-container-id-1 div.sk-dashed-wrapped {border: 1px dashed gray;margin: 0 0.4em 0.5em 0.4em;box-sizing: border-box;padding-bottom: 0.4em;background-color: white;}#sk-container-id-1 div.sk-label label {font-family: monospace;font-weight: bold;display: inline-block;line-height: 1.2em;}#sk-container-id-1 div.sk-label-container {text-align: center;}#sk-container-id-1 div.sk-container {/* jupyter's `normalize.less` sets `[hidden] { display: none; }` but bootstrap.min.css set `[hidden] { display: none !important; }` so we also need the `!important` here to be able to override the default hidden behavior on the sphinx rendered scikit-learn.org. See: https://github.com/scikit-learn/scikit-learn/issues/21755 */display: inline-block !important;position: relative;}#sk-container-id-1 div.sk-text-repr-fallback {display: none;}</style><div id=\"sk-container-id-1\" class=\"sk-top-container\"><div class=\"sk-text-repr-fallback\"><pre>LogisticRegression()</pre><b>In a Jupyter environment, please rerun this cell to show the HTML representation or trust the notebook. <br />On GitHub, the HTML representation is unable to render, please try loading this page with nbviewer.org.</b></div><div class=\"sk-container\" hidden><div class=\"sk-item\"><div class=\"sk-estimator sk-toggleable\"><input class=\"sk-toggleable__control sk-hidden--visually\" id=\"sk-estimator-id-1\" type=\"checkbox\" checked><label for=\"sk-estimator-id-1\" class=\"sk-toggleable__label sk-toggleable__label-arrow\">LogisticRegression</label><div class=\"sk-toggleable__content\"><pre>LogisticRegression()</pre></div></div></div></div></div>"
      ],
      "text/plain": [
       "LogisticRegression()"
      ]
     },
     "execution_count": 16,
     "metadata": {},
     "output_type": "execute_result"
    }
   ],
   "source": [
    "model1.fit(X_train,Y_train)"
   ]
  },
  {
   "cell_type": "code",
   "execution_count": 17,
   "id": "c6b17cf9",
   "metadata": {},
   "outputs": [
    {
     "data": {
      "text/plain": [
       "0.7728119180633147"
      ]
     },
     "execution_count": 17,
     "metadata": {},
     "output_type": "execute_result"
    }
   ],
   "source": [
    "model1.score(X_train,Y_train)"
   ]
  },
  {
   "cell_type": "code",
   "execution_count": 18,
   "id": "7e652f95",
   "metadata": {},
   "outputs": [
    {
     "data": {
      "text/plain": [
       "0.7835497835497836"
      ]
     },
     "execution_count": 18,
     "metadata": {},
     "output_type": "execute_result"
    }
   ],
   "source": [
    "model1.score(X_test,Y_test)"
   ]
  },
  {
   "cell_type": "code",
   "execution_count": null,
   "id": "64a093d7",
   "metadata": {},
   "outputs": [],
   "source": []
  },
  {
   "cell_type": "code",
   "execution_count": 19,
   "id": "c782e64f",
   "metadata": {},
   "outputs": [],
   "source": [
    "predictions=model1.predict(X_test)"
   ]
  },
  {
   "cell_type": "code",
   "execution_count": 20,
   "id": "bbd0ef37",
   "metadata": {},
   "outputs": [
    {
     "data": {
      "text/plain": [
       "0.7835497835497836"
      ]
     },
     "execution_count": 20,
     "metadata": {},
     "output_type": "execute_result"
    }
   ],
   "source": [
    "from sklearn.metrics import accuracy_score\n",
    "accuracy_score(Y_test,predictions)"
   ]
  },
  {
   "cell_type": "code",
   "execution_count": 21,
   "id": "03e9d59b",
   "metadata": {},
   "outputs": [
    {
     "name": "stdout",
     "output_type": "stream",
     "text": [
      "              precision    recall  f1-score   support\n",
      "\n",
      "           0       0.79      0.90      0.84       146\n",
      "           1       0.78      0.58      0.66        85\n",
      "\n",
      "    accuracy                           0.78       231\n",
      "   macro avg       0.78      0.74      0.75       231\n",
      "weighted avg       0.78      0.78      0.78       231\n",
      "\n"
     ]
    }
   ],
   "source": [
    "from sklearn import metrics\n",
    "print (metrics.classification_report(Y_test,predictions))"
   ]
  },
  {
   "cell_type": "code",
   "execution_count": 22,
   "id": "6625cf53",
   "metadata": {},
   "outputs": [
    {
     "data": {
      "text/plain": [
       "array([[132,  14],\n",
       "       [ 36,  49]], dtype=int64)"
      ]
     },
     "execution_count": 22,
     "metadata": {},
     "output_type": "execute_result"
    }
   ],
   "source": [
    "from sklearn.metrics import confusion_matrix\n",
    "confusion_matrix(Y_test,predictions)"
   ]
  },
  {
   "cell_type": "code",
   "execution_count": 23,
   "id": "a676fde8",
   "metadata": {
    "scrolled": true
   },
   "outputs": [
    {
     "data": {
      "text/plain": [
       "<Axes: >"
      ]
     },
     "execution_count": 23,
     "metadata": {},
     "output_type": "execute_result"
    },
    {
     "data": {
      "image/png": "[encoded data removed]",
      "text/plain": [
       "<Figure size 700x500 with 2 Axes>"
      ]
     },
     "metadata": {},
     "output_type": "display_data"
    }
   ],
   "source": [
    "cm=metrics.confusion_matrix(Y_test,predictions,labels=[1,0])\n",
    "df_cm=pd.DataFrame(cm,index=[i for i in ['1','0']],\n",
    "                  columns=[i for i in['Predict 1','Predict 0']])\n",
    "plt.figure(figsize= (7,5))\n",
    "sns.heatmap(df_cm,annot=True,fmt='g')"
   ]
  },
  {
   "cell_type": "code",
   "execution_count": 24,
   "id": "1e13b6ef",
   "metadata": {},
   "outputs": [
    {
     "data": {
      "text/plain": [
       "231"
      ]
     },
     "execution_count": 24,
     "metadata": {},
     "output_type": "execute_result"
    }
   ],
   "source": [
    "49+36+14+132"
   ]
  },
  {
   "cell_type": "code",
   "execution_count": 25,
   "id": "e438067b",
   "metadata": {},
   "outputs": [
    {
     "data": {
      "text/plain": [
       "(768, 9)"
      ]
     },
     "execution_count": 25,
     "metadata": {},
     "output_type": "execute_result"
    }
   ],
   "source": [
    "df.shape"
   ]
  },
  {
   "cell_type": "code",
   "execution_count": 26,
   "id": "146ee9c0",
   "metadata": {},
   "outputs": [
    {
     "data": {
      "text/plain": [
       "230.39999999999998"
      ]
     },
     "execution_count": 26,
     "metadata": {},
     "output_type": "execute_result"
    }
   ],
   "source": [
    "768*0.3"
   ]
  },
  {
   "cell_type": "code",
   "execution_count": 27,
   "id": "77171fc8",
   "metadata": {},
   "outputs": [
    {
     "data": {
      "text/plain": [
       "0.7869565217391304"
      ]
     },
     "execution_count": 27,
     "metadata": {},
     "output_type": "execute_result"
    }
   ],
   "source": [
    "(49+132)/230  ## (TP+TP)/AVG"
   ]
  },
  {
   "cell_type": "code",
   "execution_count": null,
   "id": "f470386d",
   "metadata": {},
   "outputs": [],
   "source": [
    "### plas-plasma,pres-pressure,skin-thickness,test-insulin,mass-bmi,pedi-pedgree function,\n",
    "##  values canot be zero there will be a missing values"
   ]
  },
  {
   "cell_type": "code",
   "execution_count": null,
   "id": "d6fc569f",
   "metadata": {},
   "outputs": [],
   "source": [
    "### missing value respresented by zero, whereever zero replace with mean or median"
   ]
  },
  {
   "cell_type": "code",
   "execution_count": 30,
   "id": "d546a275",
   "metadata": {},
   "outputs": [
    {
     "data": {
      "text/html": [
       "<div>\n",
       "<style scoped>\n",
       "    .dataframe tbody tr th:only-of-type {\n",
       "        vertical-align: middle;\n",
       "    }\n",
       "\n",
       "    .dataframe tbody tr th {\n",
       "        vertical-align: top;\n",
       "    }\n",
       "\n",
       "    .dataframe thead th {\n",
       "        text-align: right;\n",
       "    }\n",
       "</style>\n",
       "<table border=\"1\" class=\"dataframe\">\n",
       "  <thead>\n",
       "    <tr style=\"text-align: right;\">\n",
       "      <th></th>\n",
       "      <th>Preg</th>\n",
       "      <th>Plas</th>\n",
       "      <th>Pres</th>\n",
       "      <th>skin</th>\n",
       "      <th>test</th>\n",
       "      <th>mass</th>\n",
       "      <th>pedi</th>\n",
       "      <th>age</th>\n",
       "      <th>class</th>\n",
       "    </tr>\n",
       "  </thead>\n",
       "  <tbody>\n",
       "    <tr>\n",
       "      <th>760</th>\n",
       "      <td>2</td>\n",
       "      <td>88</td>\n",
       "      <td>58</td>\n",
       "      <td>26</td>\n",
       "      <td>16</td>\n",
       "      <td>28.4</td>\n",
       "      <td>0.766</td>\n",
       "      <td>22</td>\n",
       "      <td>0</td>\n",
       "    </tr>\n",
       "  </tbody>\n",
       "</table>\n",
       "</div>"
      ],
      "text/plain": [
       "     Preg  Plas  Pres  skin  test  mass   pedi  age  class\n",
       "760     2    88    58    26    16  28.4  0.766   22      0"
      ]
     },
     "execution_count": 30,
     "metadata": {},
     "output_type": "execute_result"
    }
   ],
   "source": [
    "df.sample()"
   ]
  },
  {
   "cell_type": "code",
   "execution_count": 31,
   "id": "0a2cbe2d",
   "metadata": {},
   "outputs": [
    {
     "data": {
      "text/plain": [
       "117.0"
      ]
     },
     "execution_count": 31,
     "metadata": {},
     "output_type": "execute_result"
    }
   ],
   "source": [
    "median1=df['Plas'].median()\n",
    "median1"
   ]
  },
  {
   "cell_type": "code",
   "execution_count": 32,
   "id": "c1c0cd06",
   "metadata": {},
   "outputs": [],
   "source": [
    "df['Plas']=df['Plas'].replace(np.nan,median1)"
   ]
  },
  {
   "cell_type": "code",
   "execution_count": 33,
   "id": "15d7bcfe",
   "metadata": {},
   "outputs": [
    {
     "data": {
      "text/plain": [
       "72.0"
      ]
     },
     "execution_count": 33,
     "metadata": {},
     "output_type": "execute_result"
    }
   ],
   "source": [
    "median1=df['Pres'].median()\n",
    "median1"
   ]
  },
  {
   "cell_type": "code",
   "execution_count": 34,
   "id": "b97cb500",
   "metadata": {},
   "outputs": [],
   "source": [
    "df['Pres']=df['Pres'].replace(np.nan,median1)"
   ]
  },
  {
   "cell_type": "code",
   "execution_count": 35,
   "id": "5cf7981e",
   "metadata": {},
   "outputs": [
    {
     "data": {
      "text/plain": [
       "23.0"
      ]
     },
     "execution_count": 35,
     "metadata": {},
     "output_type": "execute_result"
    }
   ],
   "source": [
    "median1=df['skin'].median()\n",
    "median1"
   ]
  },
  {
   "cell_type": "code",
   "execution_count": 36,
   "id": "744ee79c",
   "metadata": {},
   "outputs": [],
   "source": [
    "df['skin']=df['skin'].replace(np.nan,median1)"
   ]
  },
  {
   "cell_type": "code",
   "execution_count": 37,
   "id": "aacf2198",
   "metadata": {},
   "outputs": [
    {
     "data": {
      "text/plain": [
       "30.5"
      ]
     },
     "execution_count": 37,
     "metadata": {},
     "output_type": "execute_result"
    }
   ],
   "source": [
    "median1=df['test'].median()\n",
    "median1"
   ]
  },
  {
   "cell_type": "code",
   "execution_count": 38,
   "id": "194f7efb",
   "metadata": {},
   "outputs": [],
   "source": [
    "df['test']=df['test'].replace(np.nan,median1)"
   ]
  },
  {
   "cell_type": "code",
   "execution_count": 39,
   "id": "7b216f94",
   "metadata": {},
   "outputs": [
    {
     "data": {
      "text/plain": [
       "32.0"
      ]
     },
     "execution_count": 39,
     "metadata": {},
     "output_type": "execute_result"
    }
   ],
   "source": [
    "median1=df['mass'].median()\n",
    "median1"
   ]
  },
  {
   "cell_type": "code",
   "execution_count": 40,
   "id": "63f0e985",
   "metadata": {},
   "outputs": [],
   "source": [
    "df['mass']=df['mass'].replace(np.nan,median1)"
   ]
  },
  {
   "cell_type": "code",
   "execution_count": 41,
   "id": "17ab3842",
   "metadata": {},
   "outputs": [
    {
     "data": {
      "text/plain": [
       "0.3725"
      ]
     },
     "execution_count": 41,
     "metadata": {},
     "output_type": "execute_result"
    }
   ],
   "source": [
    "median1=df['pedi'].median()\n",
    "median1"
   ]
  },
  {
   "cell_type": "code",
   "execution_count": 42,
   "id": "1bae578d",
   "metadata": {},
   "outputs": [],
   "source": [
    "df['pedi']=df['pedi'].replace(np.nan,median1)"
   ]
  },
  {
   "cell_type": "code",
   "execution_count": 43,
   "id": "5559f094",
   "metadata": {},
   "outputs": [
    {
     "data": {
      "text/plain": [
       "Preg       int64\n",
       "Plas       int64\n",
       "Pres       int64\n",
       "skin       int64\n",
       "test       int64\n",
       "mass     float64\n",
       "pedi     float64\n",
       "age        int64\n",
       "class      int64\n",
       "dtype: object"
      ]
     },
     "execution_count": 43,
     "metadata": {},
     "output_type": "execute_result"
    }
   ],
   "source": [
    "df.dtypes"
   ]
  },
  {
   "cell_type": "code",
   "execution_count": 44,
   "id": "4fb59aba",
   "metadata": {},
   "outputs": [
    {
     "data": {
      "text/plain": [
       "Preg     0\n",
       "Plas     0\n",
       "Pres     0\n",
       "skin     0\n",
       "test     0\n",
       "mass     0\n",
       "pedi     0\n",
       "age      0\n",
       "class    0\n",
       "dtype: int64"
      ]
     },
     "execution_count": 44,
     "metadata": {},
     "output_type": "execute_result"
    }
   ],
   "source": [
    "df.isnull().sum()"
   ]
  },
  {
   "cell_type": "code",
   "execution_count": null,
   "id": "1784e35e",
   "metadata": {},
   "outputs": [],
   "source": []
  }
 ],
 "metadata": {
  "kernelspec": {
   "display_name": "Python 3 (ipykernel)",
   "language": "python",
   "name": "python3"
  },
  "language_info": {
   "codemirror_mode": {
    "name": "ipython",
    "version": 3
   },
   "file_extension": ".py",
   "mimetype": "text/x-python",
   "name": "python",
   "nbconvert_exporter": "python",
   "pygments_lexer": "ipython3",
   "version": "3.10.9"
  }
 },
 "nbformat": 4,
 "nbformat_minor": 5
}
